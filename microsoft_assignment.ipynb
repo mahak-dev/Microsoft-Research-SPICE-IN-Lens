{
  "nbformat": 4,
  "nbformat_minor": 0,
  "metadata": {
    "colab": {
      "provenance": []
    },
    "kernelspec": {
      "name": "python3",
      "display_name": "Python 3"
    },
    "language_info": {
      "name": "python"
    }
  },
  "cells": [
    {
      "cell_type": "code",
      "source": [
        "from selenium import webdriver\n",
        "from selenium.webdriver.common.by import By\n",
        "from selenium.webdriver.chrome.options import Options\n",
        "from selenium.webdriver.support.ui import WebDriverWait\n",
        "from selenium.webdriver.support import expected_conditions as EC"
      ],
      "metadata": {
        "id": "TMimvLAm0aWN"
      },
      "execution_count": null,
      "outputs": []
    },
    {
      "cell_type": "code",
      "source": [
        "# Set up Chrome options for download preferences\n",
        "chrome_options = Options()\n",
        "chrome_options.add_experimental_option(\"prefs\", {\n",
        "    \"download.default_directory\": \"/path/to/save/downloads\",\n",
        "    \"download.prompt_for_download\": False,\n",
        "    \"download.directory_upgrade\": True,\n",
        "    \"plugins.always_open_pdf_externally\": True\n",
        "})"
      ],
      "metadata": {
        "id": "n-Pgk9a0zj8H"
      },
      "execution_count": null,
      "outputs": []
    },
    {
      "cell_type": "code",
      "source": [
        "# Create a new Chrome WebDriver instance\n",
        "driver = webdriver.Chrome(executable_path=\"/path/to/chromedriver\", options=chrome_options)\n",
        "\n",
        "try:\n",
        "    # Open the Supreme Court judgments page\n",
        "    driver.get(\"https://main.sci.gov.in/judgments\")\n",
        "\n",
        "    # Wait for the page to load and find the link to the latest judgment\n",
        "    latest_judgment_link = WebDriverWait(driver, 10).until(\n",
        "        EC.presence_of_element_located((By.XPATH, \"//a[contains(@href, '.pdf')]\"))\n",
        "    )\n",
        "\n",
        "    # Get the URL of the latest PDF\n",
        "    pdf_url = latest_judgment_link.get_attribute(\"href\")\n",
        "\n",
        "    if pdf_url:\n",
        "        # Extract the file name from the URL\n",
        "        file_name = pdf_url.split(\"/\")[-1]\n",
        "\n",
        "        # Download the PDF\n",
        "        driver.get(pdf_url)\n",
        "\n",
        "        print(f\"Downloaded the latest judgment PDF: {file_name}\")\n",
        "\n",
        "    else:\n",
        "        print(\"PDF link not found\")\n",
        "\n",
        "except Exception as e:\n",
        "    print(f\"An error occurred: {str(e)}\")\n",
        "\n",
        "finally:\n",
        "    # Close the browser\n",
        "    driver.quit()\n"
      ],
      "metadata": {
        "id": "efh_ht8i0irO"
      },
      "execution_count": null,
      "outputs": []
    }
  ]
}